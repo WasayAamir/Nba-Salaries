{
 "cells": [
  {
   "cell_type": "markdown",
   "metadata": {},
   "source": [
    "# NBA Statistics \n",
    "### <span style=\"color:#83898b\">How are different factors affecting players salaries?</span>"
   ]
  },
  {
   "cell_type": "markdown",
   "metadata": {},
   "source": [
    "Name: Abdul Wasay Aamir\n",
    "\n",
    "Student ID: 100874520"
   ]
  },
  {
   "cell_type": "markdown",
   "metadata": {},
   "source": [
    "The National Basketball Association (NBA) is a worldwide known organization that is watched by billions around the globe. Players have to be highly skilled to play in the NBA as only the best of the best compete against each other to victory. As they are highly skilled they get paid the deserved amount as well. I wanted to explore aspects of players, and how it has an affect on their salaries. NBA players are paid substantial amounts, and discerning the factors that underpin these financial valuations is an interesting puzzle. NBA is known to pay its players the highest salaries out of all sports in the world with average salary being nearly $10 million. NBA keep's statistics on every player and their overall career including their salariesIn this assignment, I am going to explore important factors such as Points Per Game (PTS), Age and Positions of players to determine if these factors play a part in their salaries or not.\n",
    "\n",
    "\n",
    "![Image of Nba](https://upload.wikimedia.org/wikipedia/commons/thumb/4/47/2013_NBA_Slam_Dunk_Contest_at_Toyota_Center.JPG/600px-2013_NBA_Slam_Dunk_Contest_at_Toyota_Center.JPG)\n",
    "\n",
    "<p style=\"font-size: x-small\">Francis Godolphin Osbourne Stuart, Public domain, via <a href=\"https://commons.wikimedia.org/wiki/File:2013_NBA_Slam_Dunk_Contest_at_Toyota_Center.JPG\">[Wikimedia Commons]</p>"
   ]
  },
  {
   "cell_type": "markdown",
   "metadata": {},
   "source": [
    "## Methods\n",
    "### Data Collection"
   ]
  },
  {
   "cell_type": "markdown",
   "metadata": {},
   "source": [
    "A subeset of data from NBA 2022-2023 Statistics is maintained publicly at [Kaggle](https://www.kaggle.com/), a free online resource of general datasets"
   ]
  },
  {
   "cell_type": "code",
   "execution_count": 1970,
   "metadata": {},
   "outputs": [],
   "source": [
    "import matplotlib.pyplot as plt\n",
    "from matplotlib.ticker import FuncFormatter\n",
    "import matplotlib.ticker as ticker\n",
    "import pandas as pd\n",
    "import seaborn as sns\n",
    "from IPython.display import display"
   ]
  },
  {
   "cell_type": "code",
   "execution_count": 1971,
   "metadata": {},
   "outputs": [],
   "source": [
    "# Load Data\n",
    "nba = pd.read_csv('nba_salaries.csv')\n"
   ]
  },
  {
   "cell_type": "markdown",
   "metadata": {},
   "source": [
    "# Data Cleaning\n"
   ]
  },
  {
   "cell_type": "markdown",
   "metadata": {},
   "source": [
    "This dataset had a extra columns which will not be used so I removed them, I also modified floating point precision for precise printing outputs"
   ]
  },
  {
   "cell_type": "code",
   "execution_count": 1972,
   "metadata": {},
   "outputs": [
    {
     "data": {
      "text/html": [
       "<div>\n",
       "<style scoped>\n",
       "    .dataframe tbody tr th:only-of-type {\n",
       "        vertical-align: middle;\n",
       "    }\n",
       "\n",
       "    .dataframe tbody tr th {\n",
       "        vertical-align: top;\n",
       "    }\n",
       "\n",
       "    .dataframe thead th {\n",
       "        text-align: right;\n",
       "    }\n",
       "</style>\n",
       "<table border=\"1\" class=\"dataframe\">\n",
       "  <thead>\n",
       "    <tr style=\"text-align: right;\">\n",
       "      <th></th>\n",
       "      <th>Player Name</th>\n",
       "      <th>Salary</th>\n",
       "      <th>Position</th>\n",
       "      <th>Age</th>\n",
       "      <th>Team</th>\n",
       "      <th>GP</th>\n",
       "      <th>GS</th>\n",
       "      <th>MP</th>\n",
       "      <th>FG</th>\n",
       "      <th>FGA</th>\n",
       "      <th>...</th>\n",
       "      <th>FT%</th>\n",
       "      <th>ORB</th>\n",
       "      <th>DRB</th>\n",
       "      <th>TRB</th>\n",
       "      <th>AST</th>\n",
       "      <th>STL</th>\n",
       "      <th>BLK</th>\n",
       "      <th>TOV</th>\n",
       "      <th>PF</th>\n",
       "      <th>PTS</th>\n",
       "    </tr>\n",
       "  </thead>\n",
       "  <tbody>\n",
       "    <tr>\n",
       "      <th>0</th>\n",
       "      <td>Stephen Curry</td>\n",
       "      <td>48070014</td>\n",
       "      <td>PG</td>\n",
       "      <td>34</td>\n",
       "      <td>GSW</td>\n",
       "      <td>56</td>\n",
       "      <td>56</td>\n",
       "      <td>34.7</td>\n",
       "      <td>10.0</td>\n",
       "      <td>20.2</td>\n",
       "      <td>...</td>\n",
       "      <td>0.92</td>\n",
       "      <td>0.7</td>\n",
       "      <td>5.4</td>\n",
       "      <td>6.1</td>\n",
       "      <td>6.3</td>\n",
       "      <td>0.9</td>\n",
       "      <td>0.4</td>\n",
       "      <td>3.2</td>\n",
       "      <td>2.1</td>\n",
       "      <td>29.4</td>\n",
       "    </tr>\n",
       "    <tr>\n",
       "      <th>1</th>\n",
       "      <td>John Wall</td>\n",
       "      <td>47345760</td>\n",
       "      <td>PG</td>\n",
       "      <td>32</td>\n",
       "      <td>LAC</td>\n",
       "      <td>34</td>\n",
       "      <td>3</td>\n",
       "      <td>22.2</td>\n",
       "      <td>4.1</td>\n",
       "      <td>9.9</td>\n",
       "      <td>...</td>\n",
       "      <td>0.68</td>\n",
       "      <td>0.4</td>\n",
       "      <td>2.3</td>\n",
       "      <td>2.7</td>\n",
       "      <td>5.2</td>\n",
       "      <td>0.8</td>\n",
       "      <td>0.4</td>\n",
       "      <td>2.4</td>\n",
       "      <td>1.7</td>\n",
       "      <td>11.4</td>\n",
       "    </tr>\n",
       "    <tr>\n",
       "      <th>2</th>\n",
       "      <td>Russell Westbrook</td>\n",
       "      <td>47080179</td>\n",
       "      <td>PG</td>\n",
       "      <td>34</td>\n",
       "      <td>LAL/LAC</td>\n",
       "      <td>73</td>\n",
       "      <td>24</td>\n",
       "      <td>29.1</td>\n",
       "      <td>5.9</td>\n",
       "      <td>13.6</td>\n",
       "      <td>...</td>\n",
       "      <td>0.66</td>\n",
       "      <td>1.2</td>\n",
       "      <td>4.6</td>\n",
       "      <td>5.8</td>\n",
       "      <td>7.5</td>\n",
       "      <td>1.0</td>\n",
       "      <td>0.5</td>\n",
       "      <td>3.5</td>\n",
       "      <td>2.2</td>\n",
       "      <td>15.9</td>\n",
       "    </tr>\n",
       "    <tr>\n",
       "      <th>3</th>\n",
       "      <td>LeBron James</td>\n",
       "      <td>44474988</td>\n",
       "      <td>PF</td>\n",
       "      <td>38</td>\n",
       "      <td>LAL</td>\n",
       "      <td>55</td>\n",
       "      <td>54</td>\n",
       "      <td>35.5</td>\n",
       "      <td>11.1</td>\n",
       "      <td>22.2</td>\n",
       "      <td>...</td>\n",
       "      <td>0.77</td>\n",
       "      <td>1.2</td>\n",
       "      <td>7.1</td>\n",
       "      <td>8.3</td>\n",
       "      <td>6.8</td>\n",
       "      <td>0.9</td>\n",
       "      <td>0.6</td>\n",
       "      <td>3.2</td>\n",
       "      <td>1.6</td>\n",
       "      <td>28.9</td>\n",
       "    </tr>\n",
       "    <tr>\n",
       "      <th>4</th>\n",
       "      <td>Kevin Durant</td>\n",
       "      <td>44119845</td>\n",
       "      <td>PF</td>\n",
       "      <td>34</td>\n",
       "      <td>BRK/PHO</td>\n",
       "      <td>47</td>\n",
       "      <td>47</td>\n",
       "      <td>35.6</td>\n",
       "      <td>10.3</td>\n",
       "      <td>18.3</td>\n",
       "      <td>...</td>\n",
       "      <td>0.92</td>\n",
       "      <td>0.4</td>\n",
       "      <td>6.3</td>\n",
       "      <td>6.7</td>\n",
       "      <td>5.0</td>\n",
       "      <td>0.7</td>\n",
       "      <td>1.4</td>\n",
       "      <td>3.3</td>\n",
       "      <td>2.1</td>\n",
       "      <td>29.1</td>\n",
       "    </tr>\n",
       "    <tr>\n",
       "      <th>...</th>\n",
       "      <td>...</td>\n",
       "      <td>...</td>\n",
       "      <td>...</td>\n",
       "      <td>...</td>\n",
       "      <td>...</td>\n",
       "      <td>...</td>\n",
       "      <td>...</td>\n",
       "      <td>...</td>\n",
       "      <td>...</td>\n",
       "      <td>...</td>\n",
       "      <td>...</td>\n",
       "      <td>...</td>\n",
       "      <td>...</td>\n",
       "      <td>...</td>\n",
       "      <td>...</td>\n",
       "      <td>...</td>\n",
       "      <td>...</td>\n",
       "      <td>...</td>\n",
       "      <td>...</td>\n",
       "      <td>...</td>\n",
       "      <td>...</td>\n",
       "    </tr>\n",
       "    <tr>\n",
       "      <th>461</th>\n",
       "      <td>Jay Scrubb</td>\n",
       "      <td>49719</td>\n",
       "      <td>SG</td>\n",
       "      <td>22</td>\n",
       "      <td>ORL</td>\n",
       "      <td>2</td>\n",
       "      <td>0</td>\n",
       "      <td>15.0</td>\n",
       "      <td>2.5</td>\n",
       "      <td>3.5</td>\n",
       "      <td>...</td>\n",
       "      <td>0.50</td>\n",
       "      <td>0.0</td>\n",
       "      <td>3.0</td>\n",
       "      <td>3.0</td>\n",
       "      <td>0.5</td>\n",
       "      <td>1.0</td>\n",
       "      <td>0.0</td>\n",
       "      <td>1.5</td>\n",
       "      <td>1.0</td>\n",
       "      <td>6.5</td>\n",
       "    </tr>\n",
       "    <tr>\n",
       "      <th>462</th>\n",
       "      <td>Justin Minaya</td>\n",
       "      <td>35096</td>\n",
       "      <td>SF</td>\n",
       "      <td>23</td>\n",
       "      <td>POR</td>\n",
       "      <td>4</td>\n",
       "      <td>0</td>\n",
       "      <td>22.3</td>\n",
       "      <td>1.8</td>\n",
       "      <td>5.8</td>\n",
       "      <td>...</td>\n",
       "      <td>0.00</td>\n",
       "      <td>0.8</td>\n",
       "      <td>3.0</td>\n",
       "      <td>3.8</td>\n",
       "      <td>1.0</td>\n",
       "      <td>0.5</td>\n",
       "      <td>1.3</td>\n",
       "      <td>1.0</td>\n",
       "      <td>2.3</td>\n",
       "      <td>4.3</td>\n",
       "    </tr>\n",
       "    <tr>\n",
       "      <th>463</th>\n",
       "      <td>Kobi Simmons</td>\n",
       "      <td>32795</td>\n",
       "      <td>SG</td>\n",
       "      <td>25</td>\n",
       "      <td>CHO</td>\n",
       "      <td>5</td>\n",
       "      <td>0</td>\n",
       "      <td>5.6</td>\n",
       "      <td>0.2</td>\n",
       "      <td>1.2</td>\n",
       "      <td>...</td>\n",
       "      <td>1.00</td>\n",
       "      <td>0.2</td>\n",
       "      <td>0.6</td>\n",
       "      <td>0.8</td>\n",
       "      <td>1.0</td>\n",
       "      <td>0.0</td>\n",
       "      <td>0.4</td>\n",
       "      <td>0.2</td>\n",
       "      <td>0.0</td>\n",
       "      <td>1.0</td>\n",
       "    </tr>\n",
       "    <tr>\n",
       "      <th>464</th>\n",
       "      <td>Gabe York</td>\n",
       "      <td>32171</td>\n",
       "      <td>SG</td>\n",
       "      <td>29</td>\n",
       "      <td>IND</td>\n",
       "      <td>3</td>\n",
       "      <td>0</td>\n",
       "      <td>18.7</td>\n",
       "      <td>2.7</td>\n",
       "      <td>7.0</td>\n",
       "      <td>...</td>\n",
       "      <td>1.00</td>\n",
       "      <td>0.0</td>\n",
       "      <td>2.0</td>\n",
       "      <td>2.0</td>\n",
       "      <td>1.7</td>\n",
       "      <td>0.7</td>\n",
       "      <td>0.0</td>\n",
       "      <td>0.0</td>\n",
       "      <td>1.7</td>\n",
       "      <td>8.0</td>\n",
       "    </tr>\n",
       "    <tr>\n",
       "      <th>465</th>\n",
       "      <td>RaiQuan Gray</td>\n",
       "      <td>5849</td>\n",
       "      <td>PF</td>\n",
       "      <td>23</td>\n",
       "      <td>BRK</td>\n",
       "      <td>1</td>\n",
       "      <td>0</td>\n",
       "      <td>35.0</td>\n",
       "      <td>6.0</td>\n",
       "      <td>12.0</td>\n",
       "      <td>...</td>\n",
       "      <td>1.00</td>\n",
       "      <td>3.0</td>\n",
       "      <td>6.0</td>\n",
       "      <td>9.0</td>\n",
       "      <td>7.0</td>\n",
       "      <td>0.0</td>\n",
       "      <td>1.0</td>\n",
       "      <td>4.0</td>\n",
       "      <td>5.0</td>\n",
       "      <td>16.0</td>\n",
       "    </tr>\n",
       "  </tbody>\n",
       "</table>\n",
       "<p>433 rows × 30 columns</p>\n",
       "</div>"
      ],
      "text/plain": [
       "           Player Name    Salary Position  Age     Team  GP  GS    MP    FG  \\\n",
       "0        Stephen Curry  48070014       PG   34      GSW  56  56  34.7  10.0   \n",
       "1            John Wall  47345760       PG   32      LAC  34   3  22.2   4.1   \n",
       "2    Russell Westbrook  47080179       PG   34  LAL/LAC  73  24  29.1   5.9   \n",
       "3         LeBron James  44474988       PF   38      LAL  55  54  35.5  11.1   \n",
       "4         Kevin Durant  44119845       PF   34  BRK/PHO  47  47  35.6  10.3   \n",
       "..                 ...       ...      ...  ...      ...  ..  ..   ...   ...   \n",
       "461         Jay Scrubb     49719       SG   22      ORL   2   0  15.0   2.5   \n",
       "462      Justin Minaya     35096       SF   23      POR   4   0  22.3   1.8   \n",
       "463       Kobi Simmons     32795       SG   25      CHO   5   0   5.6   0.2   \n",
       "464          Gabe York     32171       SG   29      IND   3   0  18.7   2.7   \n",
       "465       RaiQuan Gray      5849       PF   23      BRK   1   0  35.0   6.0   \n",
       "\n",
       "      FGA  ...   FT%  ORB  DRB  TRB  AST  STL  BLK  TOV   PF   PTS  \n",
       "0    20.2  ...  0.92  0.7  5.4  6.1  6.3  0.9  0.4  3.2  2.1  29.4  \n",
       "1     9.9  ...  0.68  0.4  2.3  2.7  5.2  0.8  0.4  2.4  1.7  11.4  \n",
       "2    13.6  ...  0.66  1.2  4.6  5.8  7.5  1.0  0.5  3.5  2.2  15.9  \n",
       "3    22.2  ...  0.77  1.2  7.1  8.3  6.8  0.9  0.6  3.2  1.6  28.9  \n",
       "4    18.3  ...  0.92  0.4  6.3  6.7  5.0  0.7  1.4  3.3  2.1  29.1  \n",
       "..    ...  ...   ...  ...  ...  ...  ...  ...  ...  ...  ...   ...  \n",
       "461   3.5  ...  0.50  0.0  3.0  3.0  0.5  1.0  0.0  1.5  1.0   6.5  \n",
       "462   5.8  ...  0.00  0.8  3.0  3.8  1.0  0.5  1.3  1.0  2.3   4.3  \n",
       "463   1.2  ...  1.00  0.2  0.6  0.8  1.0  0.0  0.4  0.2  0.0   1.0  \n",
       "464   7.0  ...  1.00  0.0  2.0  2.0  1.7  0.7  0.0  0.0  1.7   8.0  \n",
       "465  12.0  ...  1.00  3.0  6.0  9.0  7.0  0.0  1.0  4.0  5.0  16.0  \n",
       "\n",
       "[433 rows x 30 columns]"
      ]
     },
     "metadata": {},
     "output_type": "display_data"
    }
   ],
   "source": [
    "pd.set_option('display.precision', 2)\n",
    "df = pd.DataFrame(nba)\n",
    "df = df.drop({'Unnamed: 0' , 'Player-additional'}, axis=1)\n",
    "df= df.dropna(axis=0)\n",
    "display(df)\n"
   ]
  },
  {
   "cell_type": "markdown",
   "metadata": {},
   "source": [
    "# Analyses\n"
   ]
  },
  {
   "cell_type": "markdown",
   "metadata": {},
   "source": [
    "I will explore the relationship between players points per game, age and positions and how they have an affect on the players salaries with exploratory analyses, consisting of statistical summaries and visualisations. \n"
   ]
  },
  {
   "cell_type": "markdown",
   "metadata": {},
   "source": [
    "### Distributions\n",
    "\n"
   ]
  },
  {
   "cell_type": "markdown",
   "metadata": {},
   "source": [
    "Firstly, I will show what salaries count as High, Medium and Low salaries in the NBA followed by the first factor that has an affect on salaries\n"
   ]
  },
  {
   "cell_type": "code",
   "execution_count": 1973,
   "metadata": {},
   "outputs": [
    {
     "data": {
      "text/html": [
       "<div>\n",
       "<style scoped>\n",
       "    .dataframe tbody tr th:only-of-type {\n",
       "        vertical-align: middle;\n",
       "    }\n",
       "\n",
       "    .dataframe tbody tr th {\n",
       "        vertical-align: top;\n",
       "    }\n",
       "\n",
       "    .dataframe thead th {\n",
       "        text-align: right;\n",
       "    }\n",
       "</style>\n",
       "<table border=\"1\" class=\"dataframe\">\n",
       "  <thead>\n",
       "    <tr style=\"text-align: right;\">\n",
       "      <th></th>\n",
       "      <th>Player Name</th>\n",
       "      <th>Salary</th>\n",
       "      <th>Salary Category</th>\n",
       "    </tr>\n",
       "  </thead>\n",
       "  <tbody>\n",
       "    <tr>\n",
       "      <th>0</th>\n",
       "      <td>Stephen Curry</td>\n",
       "      <td>48070014</td>\n",
       "      <td>High</td>\n",
       "    </tr>\n",
       "    <tr>\n",
       "      <th>1</th>\n",
       "      <td>John Wall</td>\n",
       "      <td>47345760</td>\n",
       "      <td>High</td>\n",
       "    </tr>\n",
       "    <tr>\n",
       "      <th>2</th>\n",
       "      <td>Russell Westbrook</td>\n",
       "      <td>47080179</td>\n",
       "      <td>High</td>\n",
       "    </tr>\n",
       "    <tr>\n",
       "      <th>3</th>\n",
       "      <td>LeBron James</td>\n",
       "      <td>44474988</td>\n",
       "      <td>High</td>\n",
       "    </tr>\n",
       "    <tr>\n",
       "      <th>4</th>\n",
       "      <td>Kevin Durant</td>\n",
       "      <td>44119845</td>\n",
       "      <td>High</td>\n",
       "    </tr>\n",
       "    <tr>\n",
       "      <th>...</th>\n",
       "      <td>...</td>\n",
       "      <td>...</td>\n",
       "      <td>...</td>\n",
       "    </tr>\n",
       "    <tr>\n",
       "      <th>462</th>\n",
       "      <td>Justin Minaya</td>\n",
       "      <td>35096</td>\n",
       "      <td>Low</td>\n",
       "    </tr>\n",
       "    <tr>\n",
       "      <th>463</th>\n",
       "      <td>Kobi Simmons</td>\n",
       "      <td>32795</td>\n",
       "      <td>Low</td>\n",
       "    </tr>\n",
       "    <tr>\n",
       "      <th>464</th>\n",
       "      <td>Gabe York</td>\n",
       "      <td>32171</td>\n",
       "      <td>Low</td>\n",
       "    </tr>\n",
       "    <tr>\n",
       "      <th>465</th>\n",
       "      <td>RaiQuan Gray</td>\n",
       "      <td>5849</td>\n",
       "      <td>Low</td>\n",
       "    </tr>\n",
       "    <tr>\n",
       "      <th>466</th>\n",
       "      <td>Jacob Gilyard</td>\n",
       "      <td>5849</td>\n",
       "      <td>Low</td>\n",
       "    </tr>\n",
       "  </tbody>\n",
       "</table>\n",
       "<p>467 rows × 3 columns</p>\n",
       "</div>"
      ],
      "text/plain": [
       "           Player Name    Salary Salary Category\n",
       "0        Stephen Curry  48070014            High\n",
       "1            John Wall  47345760            High\n",
       "2    Russell Westbrook  47080179            High\n",
       "3         LeBron James  44474988            High\n",
       "4         Kevin Durant  44119845            High\n",
       "..                 ...       ...             ...\n",
       "462      Justin Minaya     35096             Low\n",
       "463       Kobi Simmons     32795             Low\n",
       "464          Gabe York     32171             Low\n",
       "465       RaiQuan Gray      5849             Low\n",
       "466      Jacob Gilyard      5849             Low\n",
       "\n",
       "[467 rows x 3 columns]"
      ]
     },
     "metadata": {},
     "output_type": "display_data"
    }
   ],
   "source": [
    "# Assuming 'nba' is your DataFrame with the relevant data\n",
    "# Replace the column names with the actual ones in your DataFrame\n",
    "\n",
    "# Define the salary ranges for each category\n",
    "salary_bins = [0, 5e6, 10e6, float('inf')]\n",
    "salary_labels = ['Low', 'Medium', 'High']\n",
    "\n",
    "# Create a new column 'Salary Category' based on salary ranges\n",
    "nba['Salary Category'] = pd.cut(nba['Salary'], bins=salary_bins, labels=salary_labels, right=False)\n",
    "\n",
    "# Display the updated DataFrame with relevant columns\n",
    "display(nba[['Player Name', 'Salary', 'Salary Category']])"
   ]
  },
  {
   "cell_type": "markdown",
   "metadata": {},
   "source": [
    "Points Per Game definetly has an affect on salaries. I will explore in depth how that is by first showing the avg ppg then max and min "
   ]
  },
  {
   "cell_type": "markdown",
   "metadata": {},
   "source": [
    "## Points Per Game"
   ]
  },
  {
   "cell_type": "code",
   "execution_count": 1974,
   "metadata": {},
   "outputs": [
    {
     "data": {
      "text/plain": [
       "'Mean Points Per Game: 9.13'"
      ]
     },
     "metadata": {},
     "output_type": "display_data"
    },
    {
     "data": {
      "text/plain": [
       "'Max Points Per Game: 33.1'"
      ]
     },
     "metadata": {},
     "output_type": "display_data"
    },
    {
     "data": {
      "text/plain": [
       "'Min Points Per Game: 0.0'"
      ]
     },
     "metadata": {},
     "output_type": "display_data"
    }
   ],
   "source": [
    "ds = nba.PTS.describe()\n",
    "display(f\"Mean Points Per Game: {round(ds['mean'],2)}\")\n",
    "display(f\"Max Points Per Game: {round(ds['max'],2)}\")\n",
    "display(f\"Min Points Per Game: {round(ds['min'],2)*12}\")"
   ]
  },
  {
   "cell_type": "markdown",
   "metadata": {},
   "source": [
    "Different positions get different amount of points based on their skills. Below the graph displays how Shooting Guards score the most ppg on avg than the rest. We will see if this has a affect on salaries as well."
   ]
  },
  {
   "cell_type": "code",
   "execution_count": 1975,
   "metadata": {},
   "outputs": [
    {
     "data": {
      "image/png": "[encoded data removed]",
      "text/plain": [
       "<Figure size 576x576 with 1 Axes>"
      ]
     },
     "metadata": {},
     "output_type": "display_data"
    }
   ],
   "source": [
    "selected_positions = ['PG', 'SG', 'SF', 'PF', 'C']\n",
    "filtered_data = nba[nba['Position'].isin(selected_positions)]\n",
    "\n",
    "# Create a pie chart for total points by position\n",
    "total_pts_by_position = filtered_data.groupby('Position')['PTS'].sum()\n",
    "\n",
    "plt.figure(figsize=(8, 8),facecolor='white')\n",
    "plt.pie(total_pts_by_position, labels=total_pts_by_position.index, autopct='%1.1f%%', startangle=90, colors=sns.color_palette('viridis'))\n",
    "plt.title('Total Points Distribution by Position (PG, SG, SF, PF, C)')\n",
    "plt.show()"
   ]
  },
  {
   "cell_type": "markdown",
   "metadata": {},
   "source": [
    "## Points Per Game and Salary"
   ]
  },
  {
   "cell_type": "markdown",
   "metadata": {},
   "source": [
    "Below the graph shows a clear cut pattern between salary and ppg. As points per game increase the salary also increases"
   ]
  },
  {
   "cell_type": "code",
   "execution_count": 1976,
   "metadata": {},
   "outputs": [
    {
     "data": {
      "image/png": "[encoded data removed]",
      "text/plain": [
       "<Figure size 864x576 with 1 Axes>"
      ]
     },
     "metadata": {
      "needs_background": "light"
     },
     "output_type": "display_data"
    }
   ],
   "source": [
    "plt.figure(figsize=(12, 8))\n",
    "\n",
    "# Create a scatter plot for salary vs. points per game (PTS)\n",
    "sns.scatterplot(x='PTS', y='Salary', data=nba, color='darkgreen', alpha=0.7)\n",
    "\n",
    "# Set y-axis ticks with appropriate increments\n",
    "yticks = [1000000, 5000000, 10000000, 20000000, 30000000, 40000000, 50000000]\n",
    "yticklabels = ['1M', '5M', '10M', '20M', '30M', '40M', '50M']\n",
    "\n",
    "plt.yticks(yticks, labels=yticklabels)\n",
    "\n",
    "# Set plot labels and title\n",
    "plt.title('Comparison of Salary and Points Per Game')\n",
    "plt.xlabel('Points Per Game (PTS)')\n",
    "plt.ylabel('Salary (yearly)')\n",
    "\n",
    "# Show the plot\n",
    "plt.show()"
   ]
  },
  {
   "cell_type": "markdown",
   "metadata": {},
   "source": [
    "The table below also shows the same pattern with a few outliers here and there."
   ]
  },
  {
   "cell_type": "code",
   "execution_count": 1977,
   "metadata": {},
   "outputs": [
    {
     "data": {
      "text/html": [
       "<div>\n",
       "<style scoped>\n",
       "    .dataframe tbody tr th:only-of-type {\n",
       "        vertical-align: middle;\n",
       "    }\n",
       "\n",
       "    .dataframe tbody tr th {\n",
       "        vertical-align: top;\n",
       "    }\n",
       "\n",
       "    .dataframe thead th {\n",
       "        text-align: right;\n",
       "    }\n",
       "</style>\n",
       "<table border=\"1\" class=\"dataframe\">\n",
       "  <thead>\n",
       "    <tr style=\"text-align: right;\">\n",
       "      <th></th>\n",
       "      <th>Salary</th>\n",
       "      <th>PTS</th>\n",
       "    </tr>\n",
       "  </thead>\n",
       "  <tbody>\n",
       "    <tr>\n",
       "      <th>0</th>\n",
       "      <td>48070014</td>\n",
       "      <td>29.4</td>\n",
       "    </tr>\n",
       "    <tr>\n",
       "      <th>1</th>\n",
       "      <td>47345760</td>\n",
       "      <td>11.4</td>\n",
       "    </tr>\n",
       "    <tr>\n",
       "      <th>2</th>\n",
       "      <td>47080179</td>\n",
       "      <td>15.9</td>\n",
       "    </tr>\n",
       "    <tr>\n",
       "      <th>3</th>\n",
       "      <td>44474988</td>\n",
       "      <td>28.9</td>\n",
       "    </tr>\n",
       "    <tr>\n",
       "      <th>4</th>\n",
       "      <td>44119845</td>\n",
       "      <td>29.1</td>\n",
       "    </tr>\n",
       "    <tr>\n",
       "      <th>...</th>\n",
       "      <td>...</td>\n",
       "      <td>...</td>\n",
       "    </tr>\n",
       "    <tr>\n",
       "      <th>462</th>\n",
       "      <td>35096</td>\n",
       "      <td>4.3</td>\n",
       "    </tr>\n",
       "    <tr>\n",
       "      <th>463</th>\n",
       "      <td>32795</td>\n",
       "      <td>1.0</td>\n",
       "    </tr>\n",
       "    <tr>\n",
       "      <th>464</th>\n",
       "      <td>32171</td>\n",
       "      <td>8.0</td>\n",
       "    </tr>\n",
       "    <tr>\n",
       "      <th>465</th>\n",
       "      <td>5849</td>\n",
       "      <td>16.0</td>\n",
       "    </tr>\n",
       "    <tr>\n",
       "      <th>466</th>\n",
       "      <td>5849</td>\n",
       "      <td>3.0</td>\n",
       "    </tr>\n",
       "  </tbody>\n",
       "</table>\n",
       "<p>467 rows × 2 columns</p>\n",
       "</div>"
      ],
      "text/plain": [
       "       Salary   PTS\n",
       "0    48070014  29.4\n",
       "1    47345760  11.4\n",
       "2    47080179  15.9\n",
       "3    44474988  28.9\n",
       "4    44119845  29.1\n",
       "..        ...   ...\n",
       "462     35096   4.3\n",
       "463     32795   1.0\n",
       "464     32171   8.0\n",
       "465      5849  16.0\n",
       "466      5849   3.0\n",
       "\n",
       "[467 rows x 2 columns]"
      ]
     },
     "metadata": {},
     "output_type": "display_data"
    }
   ],
   "source": [
    "df = (nba[['Salary' , 'PTS']])\n",
    "display(df)"
   ]
  },
  {
   "cell_type": "markdown",
   "metadata": {},
   "source": [
    "This suggests that Points Per Game does have an affect on Salary"
   ]
  },
  {
   "cell_type": "markdown",
   "metadata": {},
   "source": [
    "## Age"
   ]
  },
  {
   "cell_type": "markdown",
   "metadata": {},
   "source": [
    "A descriptive analysis of different ages in the league. As you can tell, after there's a big decline after 26-30"
   ]
  },
  {
   "cell_type": "code",
   "execution_count": 1978,
   "metadata": {},
   "outputs": [
    {
     "data": {
      "image/png": "[encoded data removed]",
      "text/plain": [
       "<Figure size 1080x432 with 1 Axes>"
      ]
     },
     "metadata": {
      "needs_background": "light"
     },
     "output_type": "display_data"
    }
   ],
   "source": [
    "plt.figure(figsize=(15, 6))\n",
    "sns.histplot(data=nba, x='Age', bins=8, kde=True, color='skyblue')\n",
    "\n",
    "plt.title('Age Distribution in the NBA')\n",
    "plt.xlabel('Age')\n",
    "plt.ylabel('Numbers of Players')\n",
    "plt.show()"
   ]
  },
  {
   "cell_type": "markdown",
   "metadata": {},
   "source": [
    "I will show this in a table as well so we get a better understanding "
   ]
  },
  {
   "cell_type": "code",
   "execution_count": 1979,
   "metadata": {},
   "outputs": [
    {
     "data": {
      "text/html": [
       "<div>\n",
       "<style scoped>\n",
       "    .dataframe tbody tr th:only-of-type {\n",
       "        vertical-align: middle;\n",
       "    }\n",
       "\n",
       "    .dataframe tbody tr th {\n",
       "        vertical-align: top;\n",
       "    }\n",
       "\n",
       "    .dataframe thead th {\n",
       "        text-align: right;\n",
       "    }\n",
       "</style>\n",
       "<table border=\"1\" class=\"dataframe\">\n",
       "  <thead>\n",
       "    <tr style=\"text-align: right;\">\n",
       "      <th></th>\n",
       "      <th>Age Group</th>\n",
       "      <th>Number of Players</th>\n",
       "    </tr>\n",
       "  </thead>\n",
       "  <tbody>\n",
       "    <tr>\n",
       "      <th>0</th>\n",
       "      <td>20-25</td>\n",
       "      <td>196</td>\n",
       "    </tr>\n",
       "    <tr>\n",
       "      <th>1</th>\n",
       "      <td>26-30</td>\n",
       "      <td>163</td>\n",
       "    </tr>\n",
       "    <tr>\n",
       "      <th>2</th>\n",
       "      <td>31-35</td>\n",
       "      <td>79</td>\n",
       "    </tr>\n",
       "    <tr>\n",
       "      <th>3</th>\n",
       "      <td>36-40</td>\n",
       "      <td>16</td>\n",
       "    </tr>\n",
       "    <tr>\n",
       "      <th>4</th>\n",
       "      <td>41-45</td>\n",
       "      <td>1</td>\n",
       "    </tr>\n",
       "  </tbody>\n",
       "</table>\n",
       "</div>"
      ],
      "text/plain": [
       "  Age Group  Number of Players\n",
       "0     20-25                196\n",
       "1     26-30                163\n",
       "2     31-35                 79\n",
       "3     36-40                 16\n",
       "4     41-45                  1"
      ]
     },
     "metadata": {},
     "output_type": "display_data"
    }
   ],
   "source": [
    "bins = [20, 25, 30, 35, 40, 45]\n",
    "labels = ['20-25', '26-30', '31-35', '36-40', '41-45']\n",
    "\n",
    "# Add a new column 'Age Group' to the DataFrame\n",
    "nba['Age Group'] = pd.cut(nba['Age'], bins=bins, labels=labels, right=False)\n",
    "\n",
    "# Count the number of players in each age group\n",
    "age_distribution_table = pd.value_counts(nba['Age Group']).reset_index()\n",
    "age_distribution_table.columns = ['Age Group', 'Number of Players']\n",
    "\n",
    "# Sort the table by age group\n",
    "age_distribution_table = age_distribution_table.sort_values(by='Age Group')\n",
    "\n",
    "# Display the table\n",
    "display(age_distribution_table)"
   ]
  },
  {
   "cell_type": "markdown",
   "metadata": {},
   "source": [
    "## Age and Salary"
   ]
  },
  {
   "cell_type": "markdown",
   "metadata": {},
   "source": [
    "Graph below shows that as age increases salary increases as well, but it is not a extremely strong relationship as the correlation coefficient is 0.42 so in some cases there might not be a salary increase of a significant amount. "
   ]
  },
  {
   "cell_type": "code",
   "execution_count": 1980,
   "metadata": {},
   "outputs": [
    {
     "data": {
      "image/png": "[encoded data removed]",
      "text/plain": [
       "<Figure size 864x576 with 1 Axes>"
      ]
     },
     "metadata": {
      "needs_background": "light"
     },
     "output_type": "display_data"
    }
   ],
   "source": [
    "correlation_coefficient = nba['Age'].corr(nba['Salary'])\n",
    "\n",
    "# Create a scatter plot with a regression line\n",
    "plt.figure(figsize=(12, 8))\n",
    "sns.regplot(x='Age', y='Salary', data=nba, scatter_kws={'alpha':0.5}, line_kws={'color':'red'})\n",
    "\n",
    "#Set y-axis ticks with appropriate increments\n",
    "yticks = [1000000, 5000000, 10000000, 20000000, 30000000, 40000000, 50000000]\n",
    "yticklabels = ['1M', '5M', '10M', '20M', '30M', '40M', '50M']\n",
    "\n",
    "plt.yticks(yticks, labels=yticklabels)\n",
    "\n",
    "\n",
    "plt.title(f'Age vs Salary in the NBA\\nCorrelation Coefficient: {correlation_coefficient:.2f}')\n",
    "plt.xlabel('Age')\n",
    "plt.ylabel('Salary')\n",
    "plt.show()"
   ]
  },
  {
   "cell_type": "markdown",
   "metadata": {},
   "source": [
    "As seen in the table below as well, some young players get paid more and some old players get paid more as well."
   ]
  },
  {
   "cell_type": "code",
   "execution_count": 1981,
   "metadata": {},
   "outputs": [
    {
     "data": {
      "text/html": [
       "<div>\n",
       "<style scoped>\n",
       "    .dataframe tbody tr th:only-of-type {\n",
       "        vertical-align: middle;\n",
       "    }\n",
       "\n",
       "    .dataframe tbody tr th {\n",
       "        vertical-align: top;\n",
       "    }\n",
       "\n",
       "    .dataframe thead th {\n",
       "        text-align: right;\n",
       "    }\n",
       "</style>\n",
       "<table border=\"1\" class=\"dataframe\">\n",
       "  <thead>\n",
       "    <tr style=\"text-align: right;\">\n",
       "      <th></th>\n",
       "      <th>Salary</th>\n",
       "      <th>Age</th>\n",
       "    </tr>\n",
       "  </thead>\n",
       "  <tbody>\n",
       "    <tr>\n",
       "      <th>0</th>\n",
       "      <td>48070014</td>\n",
       "      <td>34</td>\n",
       "    </tr>\n",
       "    <tr>\n",
       "      <th>1</th>\n",
       "      <td>47345760</td>\n",
       "      <td>32</td>\n",
       "    </tr>\n",
       "    <tr>\n",
       "      <th>2</th>\n",
       "      <td>47080179</td>\n",
       "      <td>34</td>\n",
       "    </tr>\n",
       "    <tr>\n",
       "      <th>3</th>\n",
       "      <td>44474988</td>\n",
       "      <td>38</td>\n",
       "    </tr>\n",
       "    <tr>\n",
       "      <th>4</th>\n",
       "      <td>44119845</td>\n",
       "      <td>34</td>\n",
       "    </tr>\n",
       "    <tr>\n",
       "      <th>...</th>\n",
       "      <td>...</td>\n",
       "      <td>...</td>\n",
       "    </tr>\n",
       "    <tr>\n",
       "      <th>462</th>\n",
       "      <td>35096</td>\n",
       "      <td>23</td>\n",
       "    </tr>\n",
       "    <tr>\n",
       "      <th>463</th>\n",
       "      <td>32795</td>\n",
       "      <td>25</td>\n",
       "    </tr>\n",
       "    <tr>\n",
       "      <th>464</th>\n",
       "      <td>32171</td>\n",
       "      <td>29</td>\n",
       "    </tr>\n",
       "    <tr>\n",
       "      <th>465</th>\n",
       "      <td>5849</td>\n",
       "      <td>23</td>\n",
       "    </tr>\n",
       "    <tr>\n",
       "      <th>466</th>\n",
       "      <td>5849</td>\n",
       "      <td>24</td>\n",
       "    </tr>\n",
       "  </tbody>\n",
       "</table>\n",
       "<p>467 rows × 2 columns</p>\n",
       "</div>"
      ],
      "text/plain": [
       "       Salary  Age\n",
       "0    48070014   34\n",
       "1    47345760   32\n",
       "2    47080179   34\n",
       "3    44474988   38\n",
       "4    44119845   34\n",
       "..        ...  ...\n",
       "462     35096   23\n",
       "463     32795   25\n",
       "464     32171   29\n",
       "465      5849   23\n",
       "466      5849   24\n",
       "\n",
       "[467 rows x 2 columns]"
      ]
     },
     "metadata": {},
     "output_type": "display_data"
    }
   ],
   "source": [
    "df = (nba[['Salary' , 'Age']])\n",
    "display(df)"
   ]
  },
  {
   "cell_type": "markdown",
   "metadata": {},
   "source": [
    "There is a relationship between age and salary but again like it was mentioned it's not a very strong one. "
   ]
  },
  {
   "cell_type": "markdown",
   "metadata": {},
   "source": [
    "## Positions"
   ]
  },
  {
   "cell_type": "markdown",
   "metadata": {},
   "source": [
    "Everyone in the nba are assigned a position on the team, we are going to look at how many players are in each position. From the looks of it in the graph below, most players play the position of shooting guard (SG)"
   ]
  },
  {
   "cell_type": "code",
   "execution_count": 1982,
   "metadata": {},
   "outputs": [
    {
     "data": {
      "image/png": "[encoded data removed]",
      "text/plain": [
       "<Figure size 720x432 with 1 Axes>"
      ]
     },
     "metadata": {
      "needs_background": "light"
     },
     "output_type": "display_data"
    }
   ],
   "source": [
    "selected_positions = ['PG', 'SG', 'PF', 'C', 'SF']\n",
    "filtered_data = nba[nba['Position'].isin(selected_positions)]\n",
    "\n",
    "# Create a bar plot for the distribution of selected player positions\n",
    "plt.figure(figsize=(10, 6))\n",
    "sns.countplot(x='Position', data=filtered_data, palette='viridis')\n",
    "\n",
    "plt.title('Distribution of Selected Player Positions in the NBA')\n",
    "plt.xlabel('Position')\n",
    "plt.ylabel('Number of Players')\n",
    "plt.show()"
   ]
  },
  {
   "cell_type": "markdown",
   "metadata": {},
   "source": [
    "The table below confirms this as well"
   ]
  },
  {
   "cell_type": "code",
   "execution_count": 1983,
   "metadata": {},
   "outputs": [
    {
     "data": {
      "text/html": [
       "<div>\n",
       "<style scoped>\n",
       "    .dataframe tbody tr th:only-of-type {\n",
       "        vertical-align: middle;\n",
       "    }\n",
       "\n",
       "    .dataframe tbody tr th {\n",
       "        vertical-align: top;\n",
       "    }\n",
       "\n",
       "    .dataframe thead th {\n",
       "        text-align: right;\n",
       "    }\n",
       "</style>\n",
       "<table border=\"1\" class=\"dataframe\">\n",
       "  <thead>\n",
       "    <tr style=\"text-align: right;\">\n",
       "      <th></th>\n",
       "      <th>Position</th>\n",
       "      <th>Number of Players</th>\n",
       "    </tr>\n",
       "  </thead>\n",
       "  <tbody>\n",
       "    <tr>\n",
       "      <th>0</th>\n",
       "      <td>C</td>\n",
       "      <td>91</td>\n",
       "    </tr>\n",
       "    <tr>\n",
       "      <th>1</th>\n",
       "      <td>PF</td>\n",
       "      <td>86</td>\n",
       "    </tr>\n",
       "    <tr>\n",
       "      <th>2</th>\n",
       "      <td>PG</td>\n",
       "      <td>77</td>\n",
       "    </tr>\n",
       "    <tr>\n",
       "      <th>3</th>\n",
       "      <td>SF</td>\n",
       "      <td>91</td>\n",
       "    </tr>\n",
       "    <tr>\n",
       "      <th>4</th>\n",
       "      <td>SG</td>\n",
       "      <td>115</td>\n",
       "    </tr>\n",
       "  </tbody>\n",
       "</table>\n",
       "</div>"
      ],
      "text/plain": [
       "  Position  Number of Players\n",
       "0        C                 91\n",
       "1       PF                 86\n",
       "2       PG                 77\n",
       "3       SF                 91\n",
       "4       SG                115"
      ]
     },
     "metadata": {},
     "output_type": "display_data"
    }
   ],
   "source": [
    "selected_positions = ['PG', 'SG', 'PF', 'C', 'SF']\n",
    "filtered_data = nba[nba['Position'].isin(selected_positions)]\n",
    "\n",
    "# Group by position and count the number of players\n",
    "position_distribution_table = filtered_data.groupby('Position').size().reset_index(name='Number of Players')\n",
    "\n",
    "# Display the table\n",
    "display(position_distribution_table)"
   ]
  },
  {
   "cell_type": "markdown",
   "metadata": {},
   "source": [
    "## Positions and Salary"
   ]
  },
  {
   "cell_type": "markdown",
   "metadata": {},
   "source": [
    "Table below shows the average, max and min salary based on position in the nba. As you can tell points guards make the most money based on their avg salary. "
   ]
  },
  {
   "cell_type": "code",
   "execution_count": 1984,
   "metadata": {},
   "outputs": [
    {
     "data": {
      "text/html": [
       "<div>\n",
       "<style scoped>\n",
       "    .dataframe tbody tr th:only-of-type {\n",
       "        vertical-align: middle;\n",
       "    }\n",
       "\n",
       "    .dataframe tbody tr th {\n",
       "        vertical-align: top;\n",
       "    }\n",
       "\n",
       "    .dataframe thead th {\n",
       "        text-align: right;\n",
       "    }\n",
       "</style>\n",
       "<table border=\"1\" class=\"dataframe\">\n",
       "  <thead>\n",
       "    <tr style=\"text-align: right;\">\n",
       "      <th></th>\n",
       "      <th>mean</th>\n",
       "      <th>min</th>\n",
       "      <th>max</th>\n",
       "    </tr>\n",
       "    <tr>\n",
       "      <th>Position</th>\n",
       "      <th></th>\n",
       "      <th></th>\n",
       "      <th></th>\n",
       "    </tr>\n",
       "  </thead>\n",
       "  <tbody>\n",
       "    <tr>\n",
       "      <th>C</th>\n",
       "      <td>7,282,722</td>\n",
       "      <td>116,986</td>\n",
       "      <td>38,172,414</td>\n",
       "    </tr>\n",
       "    <tr>\n",
       "      <th>PF</th>\n",
       "      <td>8,885,045</td>\n",
       "      <td>5,849</td>\n",
       "      <td>44,474,988</td>\n",
       "    </tr>\n",
       "    <tr>\n",
       "      <th>PG</th>\n",
       "      <td>11,579,573</td>\n",
       "      <td>5,849</td>\n",
       "      <td>48,070,014</td>\n",
       "    </tr>\n",
       "    <tr>\n",
       "      <th>SF</th>\n",
       "      <td>8,132,252</td>\n",
       "      <td>35,096</td>\n",
       "      <td>42,492,492</td>\n",
       "    </tr>\n",
       "    <tr>\n",
       "      <th>SG</th>\n",
       "      <td>6,681,301</td>\n",
       "      <td>32,171</td>\n",
       "      <td>43,279,250</td>\n",
       "    </tr>\n",
       "  </tbody>\n",
       "</table>\n",
       "</div>"
      ],
      "text/plain": [
       "                mean      min         max\n",
       "Position                                 \n",
       "C          7,282,722  116,986  38,172,414\n",
       "PF         8,885,045    5,849  44,474,988\n",
       "PG        11,579,573    5,849  48,070,014\n",
       "SF         8,132,252   35,096  42,492,492\n",
       "SG         6,681,301   32,171  43,279,250"
      ]
     },
     "metadata": {},
     "output_type": "display_data"
    }
   ],
   "source": [
    "selected_positions = ['PG', 'SG', 'SF', 'PF', 'C']\n",
    "filtered_data = nba[nba['Position'].isin(selected_positions)]\n",
    "\n",
    "# Group by position and select mean, min, and max for salaries\n",
    "df = filtered_data.groupby('Position')['Salary'].agg(['mean', 'min', 'max'])\n",
    "\n",
    "# Custom formatting function for displaying values in full form as whole numbers\n",
    "def format_full_form(x):\n",
    "    return f\"{int(x):,}\"  # Format as whole number with commas for thousands\n",
    "\n",
    "# Apply the formatting function to the 'mean', 'min', and 'max' columns\n",
    "df[['mean', 'min', 'max']] = df[['mean', 'min', 'max']].applymap(format_full_form)\n",
    "\n",
    "# Display the table\n",
    "display(df)"
   ]
  },
  {
   "cell_type": "markdown",
   "metadata": {},
   "source": [
    "For a better visualization, there is a graph down below that showcases this."
   ]
  },
  {
   "cell_type": "code",
   "execution_count": 1985,
   "metadata": {},
   "outputs": [
    {
     "data": {
      "image/png": "[encoded data removed]",
      "text/plain": [
       "<Figure size 864x576 with 1 Axes>"
      ]
     },
     "metadata": {
      "needs_background": "light"
     },
     "output_type": "display_data"
    }
   ],
   "source": [
    "selected_positions = ['PG', 'SG', 'SF', 'PF', 'C']\n",
    "filtered_data = nba[nba['Position'].isin(selected_positions)]\n",
    "\n",
    "# Create a box plot to compare salaries across selected positions\n",
    "plt.figure(figsize=(12, 8))\n",
    "sns.boxplot(x='Position', y='Salary', data=filtered_data, palette='viridis')\n",
    "\n",
    "# Format y-axis ticks to show values in millions\n",
    "formatter = ticker.StrMethodFormatter('${x:,.0f}M')\n",
    "plt.gca().yaxis.set_major_formatter(formatter)\n",
    "\n",
    "plt.title('Comparison of Salary Across Selected Positions in the NBA')\n",
    "plt.xlabel('Position')\n",
    "plt.ylabel('Salary')\n",
    "plt.show()"
   ]
  },
  {
   "cell_type": "markdown",
   "metadata": {},
   "source": [
    "This suggests that Positions played by players does affect their salaries based on the graph and table"
   ]
  },
  {
   "cell_type": "markdown",
   "metadata": {},
   "source": [
    "# Discussion"
   ]
  },
  {
   "cell_type": "markdown",
   "metadata": {},
   "source": [
    "In this assignment, I explored data from the NBA 2022-2023 Statistics, and focused on relationships between players Points Per Game, Age and Positions on their salaries. An exploratory analysis supported the hypotheses that both factors, Points Per Game and Positions are related to Salary with Age having a moderate relationship, not as strong as the other two factors. I found that players who have higher points per game tend to get higher salaries which was shown in the graphs and table having a direct affect on salary. Age did show to have an affect on salary as well but wasn't a very strong relationship. As some younger NBA players were getting paid more or equal amount as some of the older NBA players, for example Stephen Curry age 34 is getting paid a higher amount than 38 year old Lebron James. Overall, there was a moderate relationship in age as with age and experience that graph showed there was an increase in salary at the least. Lastly, positions played by players in the nba seem to show an affect in salaries as well. The table showed that Point Guards (PG) get a higher average salary than any other position followed by a graph showcasing that the highest-paid NBA player is a point guard as well. "
   ]
  },
  {
   "cell_type": "markdown",
   "metadata": {},
   "source": [
    "# References\n",
    "\n",
    "1. Source Data - https://www.kaggle.com/datasets/jamiewelsh2/nba-player-salaries-2022-23-season\n",
    "2. Pandas for data manipulation\n",
    "3. Seaborn for data viz\n",
    "4. Matplotlib for data viz\n",
    "5. Pie Chart source - https://matplotlib.org/stable/gallery/pie_and_polar_charts/pie_features.html#pie-charts\n",
    "6. Boxplot source - https://matplotlib.org/stable/gallery/statistics/boxplot_demo.html#boxplots\n",
    "7. Histplot source - https://seaborn.pydata.org/generated/seaborn.histplot.html\n",
    "7. Ticker source - https://stackoverflow.com/questions/44187290/matplotlib-ticker\n",
    "8. Ytickers source - https://matplotlib.org/stable/api/_as_gen/matplotlib.pyplot.yticks.html\n",
    "9. Custom fortmatting source - https://jupyterbook.org/en/stable/content/code-outputs.html\n",
    "10. Pandas apply map source - https://towardsdatascience.com/introduction-to-pandas-apply-applymap-and-map-5d3e044e93ff\n",
    "11. Correlation Coefficient source - https://pandas.pydata.org/docs/reference/api/pandas.DataFrame.corr.html \n",
    "13. Float source - https://stackoverflow.com/questions/34264710/what-is-the-point-of-floatinf-in-python\n",
    "\n"
   ]
  }
 ],
 "metadata": {
  "kernelspec": {
   "display_name": "base",
   "language": "python",
   "name": "python3"
  },
  "language_info": {
   "codemirror_mode": {
    "name": "ipython",
    "version": 3
   },
   "file_extension": ".py",
   "mimetype": "text/x-python",
   "name": "python",
   "nbconvert_exporter": "python",
   "pygments_lexer": "ipython3",
   "version": "3.9.12"
  }
 },
 "nbformat": 4,
 "nbformat_minor": 2
}
